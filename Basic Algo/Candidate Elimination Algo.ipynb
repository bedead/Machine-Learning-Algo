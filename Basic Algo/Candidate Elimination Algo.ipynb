{
 "cells": [
  {
   "cell_type": "markdown",
   "id": "cc495812",
   "metadata": {},
   "source": [
    "\n",
    "# Name:Satyam Mishra\n",
    "# Reg: 21BCE8247"
   ]
  },
  {
   "cell_type": "code",
   "execution_count": 1,
   "id": "f4a87916",
   "metadata": {},
   "outputs": [],
   "source": [
    "import pandas as pd\n",
    "import numpy as np"
   ]
  },
  {
   "cell_type": "code",
   "execution_count": 2,
   "id": "a9383d27",
   "metadata": {},
   "outputs": [
    {
     "data": {
      "text/plain": [
       "array([['Sunny', 'Warm', 'Normal', 'Strong', 'Warm', 'Same', 'Yes'],\n",
       "       ['Sunny', 'Warm', 'High', 'Strong', 'Warm', 'Same', 'Yes'],\n",
       "       ['Rainy', 'Cold', 'High', 'Strong', 'Warm', 'Change', 'No'],\n",
       "       ['Sunny', 'Warm', 'High', 'Strong', 'Cool', 'Change', 'Yes']],\n",
       "      dtype=object)"
      ]
     },
     "execution_count": 2,
     "metadata": {},
     "output_type": "execute_result"
    }
   ],
   "source": [
    "datapd = pd.read_csv('database/data.csv')\n",
    "\n",
    "# getting sample data to numpy\n",
    "numpy_data = np.array(datapd.iloc[:])\n",
    "numpy_data"
   ]
  },
  {
   "cell_type": "code",
   "execution_count": 3,
   "id": "aaabaa8e",
   "metadata": {},
   "outputs": [
    {
     "data": {
      "text/plain": [
       "array([['?', '?', '?', '?', '?', '?'],\n",
       "       ['?', '?', '?', '?', '?', '?'],\n",
       "       ['?', '?', '?', '?', '?', '?'],\n",
       "       ['?', '?', '?', '?', '?', '?'],\n",
       "       ['?', '?', '?', '?', '?', '?'],\n",
       "       ['?', '?', '?', '?', '?', '?']], dtype='<U1')"
      ]
     },
     "execution_count": 3,
     "metadata": {},
     "output_type": "execute_result"
    }
   ],
   "source": [
    "col_ins = 6\n",
    "# General Hypothesis\n",
    "g_hypo = np.array([['?']*col_ins]*col_ins)\n",
    "g_hypo"
   ]
  },
  {
   "cell_type": "code",
   "execution_count": 4,
   "id": "3cb954b8",
   "metadata": {},
   "outputs": [
    {
     "data": {
      "text/plain": [
       "array([None, None, None, None, None, None], dtype=object)"
      ]
     },
     "execution_count": 4,
     "metadata": {},
     "output_type": "execute_result"
    }
   ],
   "source": [
    "# Specific  Hypothesis\n",
    "s_hypo = np.array([None]*col_ins)\n",
    "s_hypo"
   ]
  },
  {
   "cell_type": "code",
   "execution_count": 5,
   "id": "990de8e4",
   "metadata": {},
   "outputs": [],
   "source": [
    "def getSHypo(row):\n",
    "    for i in range(0, col_ins):\n",
    "        if (s_hypo[i] == None):\n",
    "            s_hypo[i] = row[i]\n",
    "        elif (s_hypo[i] == row[i]):\n",
    "            pass\n",
    "        else:\n",
    "            s_hypo[i] = '?'\n",
    "            print(s_hypo)"
   ]
  },
  {
   "cell_type": "code",
   "execution_count": 6,
   "id": "0cdd8cfe",
   "metadata": {},
   "outputs": [],
   "source": [
    "def getGHypo(row):\n",
    "    for x in range(col_ins):\n",
    "        if row[x] != s_hypo[x]:\n",
    "            g_hypo[x][x] = s_hypo[x]\n",
    "        else:\n",
    "            g_hypo[x][x] = '?'\n",
    "            print(g_hypo)"
   ]
  },
  {
   "cell_type": "code",
   "execution_count": 7,
   "id": "bd960931",
   "metadata": {},
   "outputs": [
    {
     "name": "stdout",
     "output_type": "stream",
     "text": [
      "['Sunny' 'Warm' '?' 'Strong' 'Warm' 'Same']\n",
      "[['S' '?' '?' '?' '?' '?']\n",
      " ['?' 'W' '?' '?' '?' '?']\n",
      " ['?' '?' '?' '?' '?' '?']\n",
      " ['?' '?' '?' '?' '?' '?']\n",
      " ['?' '?' '?' '?' '?' '?']\n",
      " ['?' '?' '?' '?' '?' '?']]\n",
      "[['S' '?' '?' '?' '?' '?']\n",
      " ['?' 'W' '?' '?' '?' '?']\n",
      " ['?' '?' '?' '?' '?' '?']\n",
      " ['?' '?' '?' '?' '?' '?']\n",
      " ['?' '?' '?' '?' '?' '?']\n",
      " ['?' '?' '?' '?' '?' '?']]\n",
      "['Sunny' 'Warm' '?' 'Strong' 'Warm' 'Same']\n",
      "['Sunny' 'Warm' '?' 'Strong' '?' 'Same']\n",
      "['Sunny' 'Warm' '?' 'Strong' '?' '?']\n"
     ]
    }
   ],
   "source": [
    "for row in numpy_data:\n",
    "    if (row[-1] == 'Yes'):\n",
    "        getSHypo(row)\n",
    "    else:\n",
    "        getGHypo(row)"
   ]
  },
  {
   "cell_type": "code",
   "execution_count": 8,
   "id": "59caea3a",
   "metadata": {},
   "outputs": [
    {
     "name": "stdout",
     "output_type": "stream",
     "text": [
      "Most General Hypothesis : \n",
      " [['S' '?' '?' '?' '?' '?']\n",
      " ['?' 'W' '?' '?' '?' '?']\n",
      " ['?' '?' '?' '?' '?' '?']\n",
      " ['?' '?' '?' '?' '?' '?']\n",
      " ['?' '?' '?' '?' '?' '?']\n",
      " ['?' '?' '?' '?' '?' 'S']]\n"
     ]
    }
   ],
   "source": [
    "print(\"Most General Hypothesis : \"+'\\n',g_hypo)"
   ]
  },
  {
   "cell_type": "code",
   "execution_count": 9,
   "id": "49f1df7a",
   "metadata": {},
   "outputs": [
    {
     "name": "stdout",
     "output_type": "stream",
     "text": [
      "Most Specific Hypothesis : \n",
      " ['Sunny' 'Warm' '?' 'Strong' '?' '?']\n"
     ]
    }
   ],
   "source": [
    "print(\"Most Specific Hypothesis : \"+'\\n',s_hypo)"
   ]
  },
  {
   "cell_type": "code",
   "execution_count": 10,
   "id": "709ae724",
   "metadata": {},
   "outputs": [
    {
     "data": {
      "text/plain": [
       "array([[1, 0, 0, 0, 1],\n",
       "       [1, 0, 0, 0, 1],\n",
       "       [1, 1, 0, 0, 1],\n",
       "       [1, 0, 0, 0, 1],\n",
       "       [1, 0, 0, 0, 1],\n",
       "       [1, 0, 1, 0, 1],\n",
       "       [1, 0, 0, 0, 1],\n",
       "       [1, 0, 0, 0, 1],\n",
       "       [1, 0, 0, 0, 1],\n",
       "       [1, 0, 0, 0, 1],\n",
       "       [1, 0, 0, 0, 1]], dtype=int64)"
      ]
     },
     "execution_count": 10,
     "metadata": {},
     "output_type": "execute_result"
    }
   ],
   "source": [
    "## dataset with good numbers of entitys and features\n",
    "\n",
    "datapd2 = pd.read_csv('database/data2.csv')\n",
    "\n",
    "# extracting required data\n",
    "numpydata2 = np.array(datapd2.iloc[:,6::])\n",
    "numpydata2"
   ]
  },
  {
   "cell_type": "code",
   "execution_count": 11,
   "id": "9bf1c9e1",
   "metadata": {},
   "outputs": [
    {
     "data": {
      "text/plain": [
       "array([['?', '?', '?', '?'],\n",
       "       ['?', '?', '?', '?'],\n",
       "       ['?', '?', '?', '?'],\n",
       "       ['?', '?', '?', '?']], dtype='<U1')"
      ]
     },
     "execution_count": 11,
     "metadata": {},
     "output_type": "execute_result"
    }
   ],
   "source": [
    "col_ins = 4\n",
    "# General Hypothesis\n",
    "g_hypo = np.array([['?']*col_ins]*col_ins)\n",
    "g_hypo"
   ]
  },
  {
   "cell_type": "code",
   "execution_count": 12,
   "id": "468d4c82",
   "metadata": {},
   "outputs": [
    {
     "data": {
      "text/plain": [
       "array([None, None, None, None], dtype=object)"
      ]
     },
     "execution_count": 12,
     "metadata": {},
     "output_type": "execute_result"
    }
   ],
   "source": [
    "# Specific  Hypothesis\n",
    "s_hypo = np.array([None]*col_ins)\n",
    "s_hypo"
   ]
  },
  {
   "cell_type": "code",
   "execution_count": 13,
   "id": "6f22dc81",
   "metadata": {},
   "outputs": [],
   "source": [
    "def getSHypo(row):\n",
    "    for i in range(0, col_ins):\n",
    "        if (s_hypo[i] == None):\n",
    "            s_hypo[i] = row[i]\n",
    "        elif (s_hypo[i] == row[i]):\n",
    "            pass\n",
    "        else:\n",
    "            s_hypo[i] = '?'\n",
    "            print(s_hypo)"
   ]
  },
  {
   "cell_type": "code",
   "execution_count": 14,
   "id": "0d8f1fdb",
   "metadata": {},
   "outputs": [],
   "source": [
    "def getGHypo(row):\n",
    "    for x in range(col_ins):\n",
    "        if row[x] != s_hypo[x]:\n",
    "            g_hypo[x][x] = s_hypo[x]\n",
    "        else:\n",
    "            g_hypo[x][x] = '?'\n",
    "            print(g_hypo)"
   ]
  },
  {
   "cell_type": "code",
   "execution_count": 15,
   "id": "2377d536",
   "metadata": {},
   "outputs": [
    {
     "name": "stdout",
     "output_type": "stream",
     "text": [
      "[1 '?' 0 0]\n",
      "[1 '?' 0 0]\n",
      "[1 '?' 0 0]\n",
      "[1 '?' 0 0]\n",
      "[1 '?' '?' 0]\n",
      "[1 '?' '?' 0]\n",
      "[1 '?' '?' 0]\n",
      "[1 '?' '?' 0]\n",
      "[1 '?' '?' 0]\n",
      "[1 '?' '?' 0]\n",
      "[1 '?' '?' 0]\n",
      "[1 '?' '?' 0]\n",
      "[1 '?' '?' 0]\n",
      "[1 '?' '?' 0]\n",
      "[1 '?' '?' 0]\n"
     ]
    }
   ],
   "source": [
    "for row in numpydata2:\n",
    "    if (row[-1] == 1):\n",
    "        getSHypo(row)\n",
    "    else:\n",
    "        getGHypo(row)"
   ]
  },
  {
   "cell_type": "code",
   "execution_count": 16,
   "id": "647014c4",
   "metadata": {},
   "outputs": [
    {
     "name": "stdout",
     "output_type": "stream",
     "text": [
      "Most General Hypothesis : \n",
      " [['?' '?' '?' '?']\n",
      " ['?' '?' '?' '?']\n",
      " ['?' '?' '?' '?']\n",
      " ['?' '?' '?' '?']]\n"
     ]
    }
   ],
   "source": [
    "print(\"Most General Hypothesis : \"+'\\n',g_hypo)"
   ]
  },
  {
   "cell_type": "code",
   "execution_count": 17,
   "id": "5c1f9922",
   "metadata": {},
   "outputs": [
    {
     "name": "stdout",
     "output_type": "stream",
     "text": [
      "Most Specific Hypothesis : \n",
      " [1 '?' '?' 0]\n"
     ]
    }
   ],
   "source": [
    "print(\"Most Specific Hypothesis : \"+'\\n',s_hypo)"
   ]
  },
  {
   "cell_type": "code",
   "execution_count": null,
   "id": "abcf51ac",
   "metadata": {},
   "outputs": [],
   "source": []
  }
 ],
 "metadata": {
  "kernelspec": {
   "display_name": "Python 3 (ipykernel)",
   "language": "python",
   "name": "python3"
  },
  "language_info": {
   "codemirror_mode": {
    "name": "ipython",
    "version": 3
   },
   "file_extension": ".py",
   "mimetype": "text/x-python",
   "name": "python",
   "nbconvert_exporter": "python",
   "pygments_lexer": "ipython3",
   "version": "3.10.7"
  }
 },
 "nbformat": 4,
 "nbformat_minor": 5
}
